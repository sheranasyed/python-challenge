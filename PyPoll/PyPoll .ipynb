{
 "cells": [
  {
   "cell_type": "code",
   "execution_count": 4,
   "metadata": {},
   "outputs": [],
   "source": [
    "#PyPoll\n",
    "import os\n",
    "import csv"
   ]
  },
  {
   "cell_type": "code",
   "execution_count": 5,
   "metadata": {},
   "outputs": [],
   "source": [
    "# set a csv file path for the data\n",
    "poll_csv = os.path.join('election_data.csv')"
   ]
  },
  {
   "cell_type": "code",
   "execution_count": 16,
   "metadata": {},
   "outputs": [
    {
     "name": "stdout",
     "output_type": "stream",
     "text": [
      "Election Results\n",
      "--------------------------------\n",
      "Total Votes: 3521001\n",
      "--------------------------------\n",
      "Khan: 63.0% 2218231\n",
      "Correy: 20.0% 704200\n",
      "Li: 14.0% 492940\n",
      "O'Tooley: 3.0% 105630\n",
      "--------------------------------\n",
      "Winner: Khan\n",
      "--------------------------------\n"
     ]
    }
   ],
   "source": [
    "# define function\n",
    "def get_results(data):\n",
    "\n",
    "    # define variables\n",
    "    totalVotesCount = 0\n",
    "    votes = []\n",
    "    candidateCount = []\n",
    "    uniqueCandidates = []\n",
    "    percent = []\n",
    "     \n",
    "    # start looping through rows\n",
    "    for row in data:\n",
    "\n",
    "        # count the total number of votes\n",
    "        totalVotesCount += 1\n",
    "\n",
    "        # append unique names to the candidates list\n",
    "        if row[2] not in uniqueCandidates:\n",
    "            uniqueCandidates.append(row[2])\n",
    "\n",
    "        # make a list of all the votes\n",
    "        votes.append(row[2])\n",
    "\n",
    "    # start a second loop that will populate the candidateCount with each vote\n",
    "    for candidate in uniqueCandidates:\n",
    "        candidateCount.append(votes.count(candidate))\n",
    "        percent.append(round(votes.count(candidate)/totalVotesCount*100,3))\n",
    "\n",
    "    # find the winner using index position of the max count in candidateCount\n",
    "    winner = uniqueCandidates[candidateCount.index(max(candidateCount))]\n",
    "    \n",
    "    # print results, use a loop for the number of uniqueCandidates\n",
    "    print('Election Results')\n",
    "    print('--------------------------------')\n",
    "    print(f'Total Votes: {totalVotesCount}')\n",
    "    print('--------------------------------')\n",
    "    for i in range(len(uniqueCandidates)):\n",
    "        print(f'{uniqueCandidates[i]}: {percent[i]}% {candidateCount[i]}')\n",
    "    print('--------------------------------')\n",
    "    print(f'Winner: {winner}')\n",
    "    print('--------------------------------')\n",
    "\n",
    "    # set exit path\n",
    "    poll_output = os.path.join(\"PyPollResults.txt\")\n",
    "\n",
    "    # write out results to text file\n",
    "    with open(poll_output, \"w\") as txtfile:\n",
    "        txtfile.write('Election Results')\n",
    "        txtfile.write('\\n------------------------------------')\n",
    "        txtfile.write(f'\\nTotal Votes: {totalVotesCount}')\n",
    "        txtfile.write('\\n------------------------------------')\n",
    "        for i in range (len(uniqueCandidates)):\n",
    "            txtfile.write(f'\\n{uniqueCandidates[i]}: {percent[i]}% {candidateCount[i]}')\n",
    "        txtfile.write('\\n------------------------------------')\n",
    "        txtfile.write(f'\\nWinner: {winner}')\n",
    "        txtfile.write('\\n------------------------------------')\n",
    "\n",
    "\n",
    "# read in the CSV file\n",
    "with open(poll_csv, newline='') as csvfile:\n",
    "    csvreader = csv.reader(csvfile, delimiter=',')\n",
    "\n",
    "    # adjust for header\n",
    "    csv_header = next(csvfile)\n",
    "    \n",
    "    # use function\n",
    "    get_results(csvreader)"
   ]
  },
  {
   "cell_type": "code",
   "execution_count": null,
   "metadata": {},
   "outputs": [],
   "source": []
  }
 ],
 "metadata": {
  "kernelspec": {
   "display_name": "Python 3",
   "language": "python",
   "name": "python3"
  },
  "language_info": {
   "codemirror_mode": {
    "name": "ipython",
    "version": 3
   },
   "file_extension": ".py",
   "mimetype": "text/x-python",
   "name": "python",
   "nbconvert_exporter": "python",
   "pygments_lexer": "ipython3",
   "version": "3.7.4"
  }
 },
 "nbformat": 4,
 "nbformat_minor": 2
}
