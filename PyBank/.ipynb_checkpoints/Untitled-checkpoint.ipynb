{
 "cells": [
  {
   "cell_type": "code",
   "execution_count": 69,
   "metadata": {},
   "outputs": [],
   "source": [
    "import os\n",
    "import csv"
   ]
  },
  {
   "cell_type": "code",
   "execution_count": 70,
   "metadata": {},
   "outputs": [],
   "source": [
    "# Set CSV file path for the data\n",
    "bank_csv = os.path.join('budget_data.csv')"
   ]
  },
  {
   "cell_type": "code",
   "execution_count": 80,
   "metadata": {},
   "outputs": [
    {
     "name": "stdout",
     "output_type": "stream",
     "text": [
      "Financial Analysis\n",
      "-------------------------------------------\n",
      "Total Months: 86\n",
      "Net Profit: 38382578\n",
      "Average Monthly Change: -2315.12\n",
      "Greatest Increase in Profits: ('Feb-2012', 1926159)\n",
      "Greatest Loss In Profits: ('Sep-2013', -2196167)\n"
     ]
    }
   ],
   "source": [
    "# Define function\n",
    "def analyze_bank(data):\n",
    "\n",
    "    # Define variables\n",
    "    monthsCount = 0\n",
    "    netProfit = 0\n",
    "    monthList = []\n",
    "    monthProfit = 0\n",
    "    change = 0\n",
    "    changeList = []\n",
    "    \n",
    "    # Loop through rows\n",
    "    for row in data:\n",
    "       \n",
    "        # Add 1 to monthsCount for each row\n",
    "        monthsCount += 1\n",
    "        \n",
    "        # Increase netprofit with each row\n",
    "        netProfit += int(row[1])\n",
    "        \n",
    "        # Add each month to monthList\n",
    "        monthList.append(str(row[0]))\n",
    "        \n",
    "        # Calculate month to month changes in profit\n",
    "        # If there is previous data:\n",
    "        if change != 0:\n",
    "            \n",
    "            # Set monthProfit to value in profit column\n",
    "            monthProfit = int(row[1])\n",
    "            \n",
    "            # Subtract current profit from previous month's profits to find the change\n",
    "            change = monthProfit - change\n",
    "            \n",
    "            # Take this change value and store it in the changeList\n",
    "            changeList.append(change)\n",
    "            \n",
    "            # Reset change variable to the value in the current profit column, next\n",
    "            change = int(row[1])\n",
    "            \n",
    "        # If there is no previous data reset change to value in profit column\n",
    "        elif change == 0:\n",
    "            change = int(row[1])  \n",
    "            \n",
    "    # Remove 1st month from monthList since there is no change that occurs\n",
    "    monthList.pop(0)\n",
    "    \n",
    "    # Find the index position of the greatest increase in profits\n",
    "    indxmax = changeList.index(max(changeList))\n",
    "\n",
    "    # Find the index position of the greatest decrease in profits\n",
    "    indxmin = changeList.index(min(changeList))\n",
    "\n",
    "    # Use index positions to find the month that corresponds with max and min values from the changeList\n",
    "    maxChange = (monthList[int(indxmax)], max(changeList))\n",
    "    minChange = (monthList[int(indxmin)], min(changeList))\n",
    "    \n",
    "    # Take average of the changeList\n",
    "    average = sum(changeList)/float(len(changeList))\n",
    "    average = round(average,2)\n",
    "    \n",
    "    # Print the results\n",
    "    print(f'Financial Analysis')\n",
    "    print(f'-------------------------------------------')\n",
    "    print(f'Total Months: {monthsCount}')\n",
    "    print(f'Net Profit: {netProfit}')\n",
    "    print(f'Average Monthly Change: {average}')\n",
    "    print(f'Greatest Increase in Profits: {maxChange}')\n",
    "    print(f'Greatest Loss In Profits: {minChange}')\n",
    "\n",
    "    # Set the file to write to\n",
    "    bank_output = os.path.join(\"PyBankResults.txt\")    \n",
    "    \n",
    "    # Write the results to a text file\n",
    "    with open(bank_output, 'w') as txtfile:\n",
    "        txtfile.write('Financial Analysis')\n",
    "        txtfile.write('\\n------------------------------------')\n",
    "        txtfile.write(f'\\nTotal Months: {monthsCount}')\n",
    "        txtfile.write(f'\\nNet Profit: {netProfit}')\n",
    "        txtfile.write(f'\\nAverage Monthly Change: {average}')\n",
    "        txtfile.write(f'\\nGreatest Increase In Profits: {maxChange}')\n",
    "        txtfile.write(f'\\nGreatest Loss In Profits: {minChange}')\n",
    "\n",
    "# Read in the CSV file\n",
    "with open(bank_csv, 'r', newline='') as csvfile:\n",
    "    csvreader = csv.reader(csvfile, delimiter=',')\n",
    "\n",
    "    # Adjust for header\n",
    "    csv_header = next(csvfile)\n",
    "    \n",
    "    # Use function\n",
    "    analyze_bank(csvreader)\n"
   ]
  },
  {
   "cell_type": "code",
   "execution_count": null,
   "metadata": {
    "scrolled": false
   },
   "outputs": [],
   "source": []
  },
  {
   "cell_type": "code",
   "execution_count": null,
   "metadata": {},
   "outputs": [],
   "source": []
  }
 ],
 "metadata": {
  "kernelspec": {
   "display_name": "Python 3",
   "language": "python",
   "name": "python3"
  },
  "language_info": {
   "codemirror_mode": {
    "name": "ipython",
    "version": 3
   },
   "file_extension": ".py",
   "mimetype": "text/x-python",
   "name": "python",
   "nbconvert_exporter": "python",
   "pygments_lexer": "ipython3",
   "version": "3.7.4"
  }
 },
 "nbformat": 4,
 "nbformat_minor": 2
}
